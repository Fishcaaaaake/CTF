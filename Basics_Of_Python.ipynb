{
  "nbformat": 4,
  "nbformat_minor": 0,
  "metadata": {
    "colab": {
      "provenance": [],
      "authorship_tag": "ABX9TyM7WvpwG3Qt/4GwKxXzWuWZ"
    },
    "kernelspec": {
      "name": "python3",
      "display_name": "Python 3"
    },
    "language_info": {
      "name": "python"
    }
  },
  "cells": [
    {
      "cell_type": "markdown",
      "source": [
        "# Introduction To Programming | Basics Of Python"
      ],
      "metadata": {
        "id": "RBpudiXQA9p4"
      }
    },
    {
      "cell_type": "markdown",
      "source": [
        "## Introduction"
      ],
      "metadata": {
        "id": "JVX27JPqv1wN"
      }
    },
    {
      "cell_type": "markdown",
      "source": [
        "It has become customary for every programming language tutorial to begin with a code the prints \"Hello World\".\n",
        "\n",
        "We do not intend on breaking these customs here, so let's print Hello World."
      ],
      "metadata": {
        "id": "3vQo8Ijlv6Ba"
      }
    },
    {
      "cell_type": "code",
      "source": [
        "print(\"Hello World\")"
      ],
      "metadata": {
        "id": "mLbdKQH-wSAe"
      },
      "execution_count": null,
      "outputs": []
    },
    {
      "cell_type": "markdown",
      "source": [
        "See, python is pretty straight-forward.\n",
        "\n",
        "And commments are usually used to give your code further clarity.\n",
        "\n",
        "Comments are lines that aren't executed in python and they are two types, single-line comments, and block comments.\n",
        "\n",
        "To comment a single line simple add # infront of it. This tells the python interpreter to ignore these lines in the code execution"
      ],
      "metadata": {
        "id": "GGlNQ3QRwUmu"
      }
    },
    {
      "cell_type": "code",
      "source": [
        "#This is a comment and will not be executed\n",
        "\n",
        "\n",
        "\n",
        "#Let's first welcome the user\n",
        "print(\"Howdy!\")\n",
        "\n",
        "#Let's be friendly, and invite the user to play a game with us.\n",
        "print(\"Shall we play a game?\")"
      ],
      "metadata": {
        "id": "eAWQJAQgxN3A"
      },
      "execution_count": null,
      "outputs": []
    },
    {
      "cell_type": "markdown",
      "source": [
        "Excersice:\n",
        "\n",
        "Before executing the code, what do you expect the output from each of these lines to be?\n",
        "\n"
      ],
      "metadata": {
        "id": "mQ5NFinExMs6"
      }
    },
    {
      "cell_type": "code",
      "source": [
        "print(1+2+3+4+5)\n",
        "print (3**2 + 4**2)\n",
        "print(3*(5+2))\n",
        "#print(100) This line will never be executed\n",
        "print(1/2 + 1/2)\n",
        "print (1//2 + 1//2)\n",
        "print (3985780149 % 2)"
      ],
      "metadata": {
        "colab": {
          "base_uri": "https://localhost:8080/"
        },
        "id": "mwPFkey4xvzW",
        "outputId": "8b6d9e68-61b0-46e3-c1b9-a2839b400e7a"
      },
      "execution_count": null,
      "outputs": [
        {
          "output_type": "stream",
          "name": "stdout",
          "text": [
            "15\n",
            "25\n",
            "21\n",
            "1.0\n",
            "0\n",
            "1\n"
          ]
        }
      ]
    },
    {
      "cell_type": "markdown",
      "source": [
        "## Variables"
      ],
      "metadata": {
        "id": "7p8_ABT-yISF"
      }
    },
    {
      "cell_type": "markdown",
      "source": [
        "Variables are used to store data, and definately data can come in multiple types.\n",
        "Let's identify some of those"
      ],
      "metadata": {
        "id": "ZqLa6Dm6yL9u"
      }
    },
    {
      "cell_type": "code",
      "source": [
        "x = 3\n",
        "print(x)\n",
        "print(\"The data type of x is:\", type(x))"
      ],
      "metadata": {
        "colab": {
          "base_uri": "https://localhost:8080/"
        },
        "id": "jvNC68gnykn1",
        "outputId": "bed46971-625f-4461-e050-80042e960a21"
      },
      "execution_count": null,
      "outputs": [
        {
          "output_type": "stream",
          "name": "stdout",
          "text": [
            "3\n",
            "The data type of x is: <class 'int'>\n"
          ]
        }
      ]
    },
    {
      "cell_type": "code",
      "source": [
        "x = 3.14\n",
        "print(x)\n",
        "print(\"The data type of x is:\", type(x))"
      ],
      "metadata": {
        "colab": {
          "base_uri": "https://localhost:8080/"
        },
        "id": "6jlVq4EnyzIR",
        "outputId": "f3d3f492-6e63-44a1-c1f6-594a7e0a82d1"
      },
      "execution_count": null,
      "outputs": [
        {
          "output_type": "stream",
          "name": "stdout",
          "text": [
            "3.14\n",
            "The data type of x is: <class 'float'>\n"
          ]
        }
      ]
    },
    {
      "cell_type": "code",
      "source": [
        "x = \"Make pizza\"\n",
        "print(x)\n",
        "print(\"The data type of x is:\", type(x))"
      ],
      "metadata": {
        "colab": {
          "base_uri": "https://localhost:8080/"
        },
        "id": "ELDvWaJuy0N3",
        "outputId": "ddf0b67e-d2b6-46a4-a6a6-0998a8c3a5bd"
      },
      "execution_count": null,
      "outputs": [
        {
          "output_type": "stream",
          "name": "stdout",
          "text": [
            "Make pizza\n",
            "The data type of x is: <class 'str'>\n"
          ]
        }
      ]
    },
    {
      "cell_type": "markdown",
      "source": [
        "Ofcourse, there are many other data types that you will nee to know and us as a developer and come to explore when you need to use each and why."
      ],
      "metadata": {
        "id": "MJDovFPPy-eD"
      }
    },
    {
      "cell_type": "markdown",
      "source": [
        "## Conditional statements"
      ],
      "metadata": {
        "id": "qcbIF2_2zK4N"
      }
    },
    {
      "cell_type": "markdown",
      "source": [
        "Conditional statements provide a way to preform different actions depending on certain criteria being met or not.\n",
        "\n",
        "For example, we have this simple logic:"
      ],
      "metadata": {
        "id": "gOXR2-WQzQa3"
      }
    },
    {
      "cell_type": "code",
      "source": [
        "if(1<2):\n",
        "  print(\"Hello EEESE\")\n",
        "else:\n",
        "  print(\"2023\")"
      ],
      "metadata": {
        "id": "fhJq3oRlzgb-"
      },
      "execution_count": null,
      "outputs": []
    },
    {
      "cell_type": "markdown",
      "source": [
        "## Loops"
      ],
      "metadata": {
        "id": "5f8KRUttz0Uc"
      }
    },
    {
      "cell_type": "markdown",
      "source": [
        "### While Loops"
      ],
      "metadata": {
        "id": "OoQGmrUd179g"
      }
    },
    {
      "cell_type": "markdown",
      "source": [
        "Let's first looks at some code"
      ],
      "metadata": {
        "id": "DhE695yiz4qz"
      }
    },
    {
      "cell_type": "code",
      "source": [
        "value = int(input(\"Enter a positive non-zero value\"))\n",
        "\n",
        "if(value <= 0):\n",
        "  value = int(input(\"Enter a positive non-zero value\"))\n",
        "if(value <= 0):\n",
        "  value = int(input(\"Enter a positive non-zero value\"))\n",
        "if(value <= 0):\n",
        "  value = int(input(\"Enter a positive non-zero value\"))\n",
        "if(value <= 0):\n",
        "  value = int(input(\"Enter a positive non-zero value\"))\n",
        "if(value <= 0):\n",
        "  value = int(input(\"Enter a positive non-zero value\"))\n",
        "if(value <= 0):\n",
        "  value = int(input(\"Enter a positive non-zero value\"))\n",
        "if(value <= 0):\n",
        "  value = int(input(\"Enter a positive non-zero value\"))\n",
        "if(value <= 0):\n",
        "  value = int(input(\"Enter a positive non-zero value\"))\n",
        "if(value <= 0):\n",
        "  value = int(input(\"Enter a positive non-zero value\"))\n",
        " #and so on until the value entered is greater than zero"
      ],
      "metadata": {
        "id": "uSe3JBy80UF7"
      },
      "execution_count": null,
      "outputs": []
    },
    {
      "cell_type": "markdown",
      "source": [
        "That's an awfully long code!!\n",
        "\n",
        "Luckily, with loops all this can be replace with the following:"
      ],
      "metadata": {
        "id": "mXJpNv5x01hc"
      }
    },
    {
      "cell_type": "code",
      "source": [
        "value = int(input(\"Enter a positve value\"))\n",
        "\n",
        "while (value <= 0):\n",
        "  value = int(input(\"Enter a positive non-zero value\"))"
      ],
      "metadata": {
        "id": "e6W6-p1-1Bn7"
      },
      "execution_count": null,
      "outputs": []
    },
    {
      "cell_type": "markdown",
      "source": [
        "Let's also remind the user what he entered"
      ],
      "metadata": {
        "id": "J1Vl1TT41TOP"
      }
    },
    {
      "cell_type": "code",
      "source": [
        "value = int(input(\"Enter a positve value\"))\n",
        "\n",
        "while (value <= 0):\n",
        "  value = int(input(\"Enter a positive non-zero value\"))\n",
        "  print(\"You entered\", value)"
      ],
      "metadata": {
        "id": "kdg9jKqc1aLz"
      },
      "execution_count": null,
      "outputs": []
    },
    {
      "cell_type": "markdown",
      "source": [
        "Beware though, infite loops are very subtle traps, and your code will never exit the loop if you don't kill the programme."
      ],
      "metadata": {
        "id": "OZ3H3l_K1Z7n"
      }
    },
    {
      "cell_type": "code",
      "source": [
        "value = int(input(\"Enter a positve value\"))\n",
        "\n",
        "while (value <= 0):\n",
        "  value = 0\n",
        "  print(\"The value is:\", value)"
      ],
      "metadata": {
        "id": "TDv_Zw5R1reo"
      },
      "execution_count": null,
      "outputs": []
    },
    {
      "cell_type": "markdown",
      "source": [
        "### For Loops"
      ],
      "metadata": {
        "id": "rKg8OFRB0_WA"
      }
    },
    {
      "cell_type": "markdown",
      "source": [
        "Let’s say that we want to find the ages of all the people in a group. We can count the number of people in the group, and then we can go through a loop that same number of times."
      ],
      "metadata": {
        "id": "_k3edECt2CpT"
      }
    },
    {
      "cell_type": "code",
      "source": [
        "num_people = int(input(\"How many people are there? \"))\n",
        "i = 0\n",
        "total_age = 0.0\n",
        "\n",
        "while (i < num_people):\n",
        "  age = float(input(\"Enter the age of person \" +str(i+1)+ \": \"))\n",
        "  total_age = total_age + age\n",
        "  i = i+1\n",
        "\n",
        "average_age = total_age / num_people\n",
        "print(\"The average age is\", average_age)"
      ],
      "metadata": {
        "colab": {
          "base_uri": "https://localhost:8080/"
        },
        "id": "UD0Fstzp2GFR",
        "outputId": "78c72032-09f8-432e-960a-8b9518004781"
      },
      "execution_count": null,
      "outputs": [
        {
          "output_type": "stream",
          "name": "stdout",
          "text": [
            "How many people are there? 3\n",
            "Enter the age of person1: 4\n",
            "Enter the age of person2: 14\n",
            "Enter the age of person3: 12\n",
            "The average age was 10.0\n"
          ]
        }
      ]
    },
    {
      "cell_type": "markdown",
      "source": [
        "Since we know the number of people in advance, and we know how many times the loop should execute, it's healthier practice to use a for loop instead"
      ],
      "metadata": {
        "id": "tW8g6QHA2kim"
      }
    },
    {
      "cell_type": "code",
      "source": [
        "num_people = int(input(\"How many people are there? \"))\n",
        "i = 0\n",
        "total_age = 0.0\n",
        "\n",
        "for i in range(num_people):\n",
        "  age = float(input(\"Enter the age of person\" +str(i+1)+ \": \"))\n",
        "  total_age += age\n",
        "\n",
        "average_age = total_age / num_people\n",
        "print(\"The average age is\", average_age)"
      ],
      "metadata": {
        "colab": {
          "base_uri": "https://localhost:8080/"
        },
        "id": "oDfuXtYP2227",
        "outputId": "0ea3e7eb-5fa3-4363-8d0b-29f3da4768d5"
      },
      "execution_count": null,
      "outputs": [
        {
          "output_type": "stream",
          "name": "stdout",
          "text": [
            "How many people are there? 2\n",
            "Enter the age of person1: 10\n",
            "Enter the age of person2: 30\n",
            "The average age was 20.0\n"
          ]
        }
      ]
    },
    {
      "cell_type": "markdown",
      "source": [
        "## Using Files"
      ],
      "metadata": {
        "id": "8fBwS2j73OVG"
      }
    },
    {
      "cell_type": "markdown",
      "source": [
        "Often more than not, it will be much more convinient and suitable to read and write data from files instead of the this interactive input mode where we ask the user for data."
      ],
      "metadata": {
        "id": "JtFFwxdI3Qnj"
      }
    },
    {
      "cell_type": "markdown",
      "source": [
        "To use files, we need to open them first. Always remember to close every file after you have opened it. This i a common mistake and it leads to serious outcomes.\n",
        "\n",
        "Openning files requires the filename (and sometime sthe path) and also a mode to open the file in."
      ],
      "metadata": {
        "id": "MXoxvNKL3qB-"
      }
    },
    {
      "cell_type": "code",
      "source": [
        "myfile = open(\"filename.txt\", \"w\") #This will write data into the file name\n",
        "myfile.write(\"This line is written in the file.\")\n",
        "myfile.close()"
      ],
      "metadata": {
        "id": "MqWqz0lb4MWU"
      },
      "execution_count": null,
      "outputs": []
    },
    {
      "cell_type": "markdown",
      "source": [
        "You can also read data from files when openning a file in read mode using \"r\""
      ],
      "metadata": {
        "id": "MZua0Jhz-T-m"
      }
    },
    {
      "cell_type": "code",
      "source": [
        "myfile = open(\"Filename\", \"r\")\n",
        "linefromfile = myfile.readline()\n",
        "myfile.close()"
      ],
      "metadata": {
        "id": "zGi0GxiK-TnN"
      },
      "execution_count": null,
      "outputs": []
    },
    {
      "cell_type": "markdown",
      "source": [
        "## Sample Project | Top-Down Design of a Data Analysis Program"
      ],
      "metadata": {
        "id": "LcAHM6BF-4c1"
      }
    },
    {
      "cell_type": "markdown",
      "source": [
        "Top-down design is a good way of approaching programming problems. If you continuously analyze a problem and break it down into smaller conceptual ideas, eventually you’ll reach the point where the idea you need to express can be written in just a single line of code. Using topdown design usually leads to well-organized code, where the purpose of each section of code is clear and concise"
      ],
      "metadata": {
        "id": "VqdTDlgk_G14"
      }
    },
    {
      "cell_type": "markdown",
      "source": [
        "Let's suppose you have the following data"
      ],
      "metadata": {
        "id": "gSF-b4oH_LIt"
      }
    },
    {
      "cell_type": "markdown",
      "source": [
        "Month/day/year, highest temperature, lowest temperature, humidity\n",
        "\n",
        "1/1/2000,79,37,0\n",
        "\n",
        "1/2/2000,79,68,0\n",
        "\n",
        "1/3/2000,73,50,0\n",
        "\n",
        "1/4/2000,51,26,0\n",
        "\n",
        "1/5/2000,57,19,0\n",
        "\n",
        "1/6/2000,59,46,0.08\n",
        "\n",
        "1/7/2000,53,48,1.61\n",
        "\n",
        "1/8/2000,53,44,0.76"
      ],
      "metadata": {
        "id": "Dk6VVlFM_VDR"
      }
    },
    {
      "cell_type": "markdown",
      "source": [
        "First, let's upload this file to be able to use it"
      ],
      "metadata": {
        "id": "UzAW34BtBoY5"
      }
    },
    {
      "cell_type": "code",
      "source": [
        "from google.colab import files\n",
        "uploaded = files.upload()"
      ],
      "metadata": {
        "colab": {
          "base_uri": "https://localhost:8080/",
          "height": 75
        },
        "id": "sGSvgGs2Bn9m",
        "outputId": "96b02052-e5e2-4911-fccb-2c176cc49095"
      },
      "execution_count": null,
      "outputs": [
        {
          "output_type": "display_data",
          "data": {
            "text/plain": [
              "<IPython.core.display.HTML object>"
            ],
            "text/html": [
              "\n",
              "     <input type=\"file\" id=\"files-40cab29f-f4e2-46ed-b3ed-a80882db6992\" name=\"files[]\" multiple disabled\n",
              "        style=\"border:none\" />\n",
              "     <output id=\"result-40cab29f-f4e2-46ed-b3ed-a80882db6992\">\n",
              "      Upload widget is only available when the cell has been executed in the\n",
              "      current browser session. Please rerun this cell to enable.\n",
              "      </output>\n",
              "      <script>// Copyright 2017 Google LLC\n",
              "//\n",
              "// Licensed under the Apache License, Version 2.0 (the \"License\");\n",
              "// you may not use this file except in compliance with the License.\n",
              "// You may obtain a copy of the License at\n",
              "//\n",
              "//      http://www.apache.org/licenses/LICENSE-2.0\n",
              "//\n",
              "// Unless required by applicable law or agreed to in writing, software\n",
              "// distributed under the License is distributed on an \"AS IS\" BASIS,\n",
              "// WITHOUT WARRANTIES OR CONDITIONS OF ANY KIND, either express or implied.\n",
              "// See the License for the specific language governing permissions and\n",
              "// limitations under the License.\n",
              "\n",
              "/**\n",
              " * @fileoverview Helpers for google.colab Python module.\n",
              " */\n",
              "(function(scope) {\n",
              "function span(text, styleAttributes = {}) {\n",
              "  const element = document.createElement('span');\n",
              "  element.textContent = text;\n",
              "  for (const key of Object.keys(styleAttributes)) {\n",
              "    element.style[key] = styleAttributes[key];\n",
              "  }\n",
              "  return element;\n",
              "}\n",
              "\n",
              "// Max number of bytes which will be uploaded at a time.\n",
              "const MAX_PAYLOAD_SIZE = 100 * 1024;\n",
              "\n",
              "function _uploadFiles(inputId, outputId) {\n",
              "  const steps = uploadFilesStep(inputId, outputId);\n",
              "  const outputElement = document.getElementById(outputId);\n",
              "  // Cache steps on the outputElement to make it available for the next call\n",
              "  // to uploadFilesContinue from Python.\n",
              "  outputElement.steps = steps;\n",
              "\n",
              "  return _uploadFilesContinue(outputId);\n",
              "}\n",
              "\n",
              "// This is roughly an async generator (not supported in the browser yet),\n",
              "// where there are multiple asynchronous steps and the Python side is going\n",
              "// to poll for completion of each step.\n",
              "// This uses a Promise to block the python side on completion of each step,\n",
              "// then passes the result of the previous step as the input to the next step.\n",
              "function _uploadFilesContinue(outputId) {\n",
              "  const outputElement = document.getElementById(outputId);\n",
              "  const steps = outputElement.steps;\n",
              "\n",
              "  const next = steps.next(outputElement.lastPromiseValue);\n",
              "  return Promise.resolve(next.value.promise).then((value) => {\n",
              "    // Cache the last promise value to make it available to the next\n",
              "    // step of the generator.\n",
              "    outputElement.lastPromiseValue = value;\n",
              "    return next.value.response;\n",
              "  });\n",
              "}\n",
              "\n",
              "/**\n",
              " * Generator function which is called between each async step of the upload\n",
              " * process.\n",
              " * @param {string} inputId Element ID of the input file picker element.\n",
              " * @param {string} outputId Element ID of the output display.\n",
              " * @return {!Iterable<!Object>} Iterable of next steps.\n",
              " */\n",
              "function* uploadFilesStep(inputId, outputId) {\n",
              "  const inputElement = document.getElementById(inputId);\n",
              "  inputElement.disabled = false;\n",
              "\n",
              "  const outputElement = document.getElementById(outputId);\n",
              "  outputElement.innerHTML = '';\n",
              "\n",
              "  const pickedPromise = new Promise((resolve) => {\n",
              "    inputElement.addEventListener('change', (e) => {\n",
              "      resolve(e.target.files);\n",
              "    });\n",
              "  });\n",
              "\n",
              "  const cancel = document.createElement('button');\n",
              "  inputElement.parentElement.appendChild(cancel);\n",
              "  cancel.textContent = 'Cancel upload';\n",
              "  const cancelPromise = new Promise((resolve) => {\n",
              "    cancel.onclick = () => {\n",
              "      resolve(null);\n",
              "    };\n",
              "  });\n",
              "\n",
              "  // Wait for the user to pick the files.\n",
              "  const files = yield {\n",
              "    promise: Promise.race([pickedPromise, cancelPromise]),\n",
              "    response: {\n",
              "      action: 'starting',\n",
              "    }\n",
              "  };\n",
              "\n",
              "  cancel.remove();\n",
              "\n",
              "  // Disable the input element since further picks are not allowed.\n",
              "  inputElement.disabled = true;\n",
              "\n",
              "  if (!files) {\n",
              "    return {\n",
              "      response: {\n",
              "        action: 'complete',\n",
              "      }\n",
              "    };\n",
              "  }\n",
              "\n",
              "  for (const file of files) {\n",
              "    const li = document.createElement('li');\n",
              "    li.append(span(file.name, {fontWeight: 'bold'}));\n",
              "    li.append(span(\n",
              "        `(${file.type || 'n/a'}) - ${file.size} bytes, ` +\n",
              "        `last modified: ${\n",
              "            file.lastModifiedDate ? file.lastModifiedDate.toLocaleDateString() :\n",
              "                                    'n/a'} - `));\n",
              "    const percent = span('0% done');\n",
              "    li.appendChild(percent);\n",
              "\n",
              "    outputElement.appendChild(li);\n",
              "\n",
              "    const fileDataPromise = new Promise((resolve) => {\n",
              "      const reader = new FileReader();\n",
              "      reader.onload = (e) => {\n",
              "        resolve(e.target.result);\n",
              "      };\n",
              "      reader.readAsArrayBuffer(file);\n",
              "    });\n",
              "    // Wait for the data to be ready.\n",
              "    let fileData = yield {\n",
              "      promise: fileDataPromise,\n",
              "      response: {\n",
              "        action: 'continue',\n",
              "      }\n",
              "    };\n",
              "\n",
              "    // Use a chunked sending to avoid message size limits. See b/62115660.\n",
              "    let position = 0;\n",
              "    do {\n",
              "      const length = Math.min(fileData.byteLength - position, MAX_PAYLOAD_SIZE);\n",
              "      const chunk = new Uint8Array(fileData, position, length);\n",
              "      position += length;\n",
              "\n",
              "      const base64 = btoa(String.fromCharCode.apply(null, chunk));\n",
              "      yield {\n",
              "        response: {\n",
              "          action: 'append',\n",
              "          file: file.name,\n",
              "          data: base64,\n",
              "        },\n",
              "      };\n",
              "\n",
              "      let percentDone = fileData.byteLength === 0 ?\n",
              "          100 :\n",
              "          Math.round((position / fileData.byteLength) * 100);\n",
              "      percent.textContent = `${percentDone}% done`;\n",
              "\n",
              "    } while (position < fileData.byteLength);\n",
              "  }\n",
              "\n",
              "  // All done.\n",
              "  yield {\n",
              "    response: {\n",
              "      action: 'complete',\n",
              "    }\n",
              "  };\n",
              "}\n",
              "\n",
              "scope.google = scope.google || {};\n",
              "scope.google.colab = scope.google.colab || {};\n",
              "scope.google.colab._files = {\n",
              "  _uploadFiles,\n",
              "  _uploadFilesContinue,\n",
              "};\n",
              "})(self);\n",
              "</script> "
            ]
          },
          "metadata": {}
        },
        {
          "output_type": "stream",
          "name": "stdout",
          "text": [
            "Saving weatherdata.txt to weatherdata.txt\n"
          ]
        }
      ]
    },
    {
      "cell_type": "markdown",
      "source": [
        "When we are propmted to enter a filename it should be \"weatherdata.txt\"\n",
        "\n",
        "We can also store this data in  a list (we'll cover lists later)\n",
        "\n",
        "something like: datalist:\n",
        " [ [1, 1, 2000, 37, 79, 0.0], [2, 1, 2000, 68, 79, 0.0], [3, 1, 2000, 50, 73, 0.0] ]\n",
        "\n",
        "\n",
        "Let's say the data we wish to display is of the 1st of january"
      ],
      "metadata": {
        "id": "Tv0ZJQB-CCaz"
      }
    },
    {
      "cell_type": "code",
      "source": [
        "filename = input(\"Enter the name of the data file: \")\n",
        "infile = open(filename, 'r')\n",
        "#Read lines from File\n",
        "datalist = []\n",
        "for line in infile:\n",
        "#get data from line\n",
        "    date, h, l, r = (line.split(','))\n",
        "    lowtemp = int(l)\n",
        "    hightemp = int(h)\n",
        "    rainfall = float(r)\n",
        "    m, d, y = date.split('/')\n",
        "    month = int(m)\n",
        "    day = int(d)\n",
        "    year = int(y)\n",
        "#Put data into list\n",
        "    datalist.append([day, month, year, lowtemp, hightemp,rainfall])\n",
        "#Close File\n",
        "infile.close()\n",
        "\n",
        "########## Analyze Data ##########\n",
        "#Get date of interest\n",
        "month = int(input(\"For the date you care about, enter the month: \"))\n",
        "day = int(input(\"For the date you care about, enter the day: \"))\n",
        "#Find historical data for date\n",
        "gooddata = []\n",
        "for singleday in datalist:\n",
        "    if (singleday[0] == day) and (singleday[1] == month):\n",
        "        gooddata.append([singleday[2], singleday[3], singleday[4], singleday[5]])\n",
        "#Perform analysis\n",
        "minsofar = 120\n",
        "maxsofar = -100\n",
        "numgooddates = 0\n",
        "sumofmin=0\n",
        "sumofmax=0\n",
        "for singleday in gooddata:\n",
        "    numgooddates += 1\n",
        "    sumofmin += singleday[1]\n",
        "    sumofmax += singleday[2]\n",
        "    if singleday[1] < minsofar:\n",
        "        print(minsofar, singleday[1])\n",
        "        minsofar = singleday[1]\n",
        "    if singleday[2] > maxsofar:\n",
        "        maxsofar = singleday[2]\n",
        "avglow = sumofmin / numgooddates\n",
        "avghigh = sumofmax / numgooddates\n",
        "\n",
        "########## Present Results ##########\n",
        "print(\"Therewere\",numgooddates,\"days\")\n",
        "print(\"The lowest temperature on record was\", minsofar)\n",
        "print(\"The highest temperature on record was\", maxsofar)\n",
        "print(\"The average low has been\", avglow)\n",
        "print(\"The average high has been\", avghigh)\n"
      ],
      "metadata": {
        "colab": {
          "base_uri": "https://localhost:8080/"
        },
        "id": "H6RbkIBt8oB4",
        "outputId": "4861ec28-6b1e-40f2-8b26-5e802f6f18d6"
      },
      "execution_count": null,
      "outputs": [
        {
          "output_type": "stream",
          "name": "stdout",
          "text": [
            "Enter the name of the data file: weatherdata.txt\n",
            "For the date you care about, enter the month: 1\n",
            "For the date you care about, enter the day: 1\n",
            "120 37\n",
            "Therewere 1 days\n",
            "The lowest temperature on record was 37\n",
            "The highest temperature on record was 79\n",
            "The average low has been 37.0\n",
            "The average high has been 79.0\n"
          ]
        }
      ]
    },
    {
      "cell_type": "markdown",
      "source": [
        "## Lists\n"
      ],
      "metadata": {
        "id": "0k97aM7Ag6jK"
      }
    },
    {
      "cell_type": "markdown",
      "source": [
        "### *INTRODUCTION*\n"
      ],
      "metadata": {
        "id": "t8zVYp2Bq_X-"
      }
    },
    {
      "cell_type": "markdown",
      "source": [
        "As a general data type, python lists are more commonly called “arrays”, specifically “dynamic arrays”\n",
        "\n",
        "Basically, a list is an **ordered** sequence of values of **one or more data types**. But mostly, **lists are used to orginize and group values in an orderly manner.**\n",
        "\n",
        "It is good practice to give variables expressive names, so the common factor between the elements of the list could be a good name."
      ],
      "metadata": {
        "id": "MlBMpSGGrGOA"
      }
    },
    {
      "cell_type": "markdown",
      "source": [
        "Let's say you want a list that stores your GPAs for each semester, starting from semester 1 and till 10 (الجميلة المستحيل تتخرج منها هههه\n",
        ")"
      ],
      "metadata": {
        "id": "oPcIQlRwrai7"
      }
    },
    {
      "cell_type": "code",
      "source": [
        "GPA_per_semester = [8.80, 9.02, 8.34, 8.88, 8.28, 8.61, 8.91, 9.22, 9.12, 9.23]"
      ],
      "metadata": {
        "id": "1iVhZWXur_Kf"
      },
      "execution_count": null,
      "outputs": []
    },
    {
      "cell_type": "markdown",
      "source": [
        "The order in a list matters greatly, for each element in the list corresponds to an index expressing its order in the list, with the first element at index 0.\n",
        "\n",
        "\n",
        "The index allows us to access the specific element, let's suppose you forgot your GPA in your 3rd semester and you want to print it. **REMEMBER: The Index starts at 0 not 1, so the third element (third semester) has index 2.**"
      ],
      "metadata": {
        "id": "tT-3h4OCs_xz"
      }
    },
    {
      "cell_type": "code",
      "source": [
        "print(\"My GPA is semester 3 was\", GPA_per_semester[2])"
      ],
      "metadata": {
        "colab": {
          "base_uri": "https://localhost:8080/"
        },
        "id": "z4pH0YNstTYU",
        "outputId": "e998022f-cbc3-4556-ae0b-742396c360c9"
      },
      "execution_count": null,
      "outputs": [
        {
          "output_type": "stream",
          "name": "stdout",
          "text": [
            "My GPA is semester 3 was 8.34\n"
          ]
        }
      ]
    },
    {
      "cell_type": "markdown",
      "source": [
        "### *APPENDING*"
      ],
      "metadata": {
        "id": "hoZb0Qixu4Za"
      }
    },
    {
      "cell_type": "markdown",
      "source": [
        "Because lists in python are “dynamic arrays” we can actually **add elements to the end** of the list without having to create a new one (*This happens in amortised running time O(1)* ).\n",
        "We do this using the method “append”\n"
      ],
      "metadata": {
        "id": "TjZp_yygvLTZ"
      }
    },
    {
      "cell_type": "code",
      "source": [
        "GPA_so_far = [8.80, 9.02, 8.34, 8.88]"
      ],
      "metadata": {
        "id": "LUfYMbAkvz2b"
      },
      "execution_count": null,
      "outputs": []
    },
    {
      "cell_type": "markdown",
      "source": [
        "Now, the results of semester 5 came out (your GPA was 8.28) and you want to add it to this list without creating a new list. This is where the method append comes in handy."
      ],
      "metadata": {
        "id": "7J7NJYGjvuCX"
      }
    },
    {
      "cell_type": "code",
      "source": [
        "GPA_so_far.append(8.28)\n",
        "print(GPA_so_far)"
      ],
      "metadata": {
        "colab": {
          "base_uri": "https://localhost:8080/"
        },
        "id": "JEG9YnfuwnCU",
        "outputId": "5f271fe1-bf31-4490-c9cc-8860e51595f8"
      },
      "execution_count": null,
      "outputs": [
        {
          "output_type": "stream",
          "name": "stdout",
          "text": [
            "[8.8, 9.02, 8.34, 8.88, 8.28, 8.28]\n"
          ]
        }
      ]
    },
    {
      "cell_type": "markdown",
      "source": [
        "### *SLICING*"
      ],
      "metadata": {
        "id": "YNPKmJE9xYfs"
      }
    },
    {
      "cell_type": "markdown",
      "source": [
        "We can also see or use only a part of the list.\n",
        "\n",
        "Let's say you only want to see your results in the first two semesters (لمن كنت حفار وبتقرا)\n",
        "\n",
        "You can do this by \"slicing\" the list and only using part of it from a specific index of begining and before you reach the undex you set for the end (i.e: The first slice limit in inclusive but the second is exclusive\n",
        ")"
      ],
      "metadata": {
        "id": "kTS3PQXsxy3q"
      }
    },
    {
      "cell_type": "code",
      "source": [
        "print(GPA_per_semester[0:2])"
      ],
      "metadata": {
        "colab": {
          "base_uri": "https://localhost:8080/"
        },
        "id": "YgsJ0ZNGxFDI",
        "outputId": "28c4a94f-18fc-4bcb-ed23-09d9642987cf"
      },
      "execution_count": null,
      "outputs": [
        {
          "output_type": "stream",
          "name": "stdout",
          "text": [
            "[8.8, 9.02]\n"
          ]
        }
      ]
    },
    {
      "cell_type": "markdown",
      "source": [
        "We can also set a third parameter i to take a step between elements.\n",
        "\n",
        "Say for example you only want to see the GPA of the first semesters of each year (those are semesters 1, 3, 5, 7, and 9).\n",
        "\n",
        "This is done using a third prameter which is the step, so instead of list_name[begining_index:end_index] we have list_name[begining_index:end_index:step]"
      ],
      "metadata": {
        "id": "9GKZNAg1yzY-"
      }
    },
    {
      "cell_type": "code",
      "source": [
        "print(GPA_per_semester[1:11:2])"
      ],
      "metadata": {
        "colab": {
          "base_uri": "https://localhost:8080/"
        },
        "id": "5HOITAGXzZgB",
        "outputId": "9a45a944-aa6e-4980-d009-51880eb21446"
      },
      "execution_count": null,
      "outputs": [
        {
          "output_type": "stream",
          "name": "stdout",
          "text": [
            "[9.02, 8.88, 8.61, 9.22, 9.23]\n"
          ]
        }
      ]
    },
    {
      "cell_type": "markdown",
      "source": [
        "### EXCERCISE(S)"
      ],
      "metadata": {
        "id": "4VJly8600hTa"
      }
    },
    {
      "cell_type": "markdown",
      "source": [
        "1. Given a list of integers named “ages,” form a new list named “minor_ages”\n",
        "consisting of all those ages from the “ages” list that are less than 18"
      ],
      "metadata": {
        "id": "P2dq95Tl0pRs"
      }
    },
    {
      "cell_type": "markdown",
      "source": [
        "## Functions\n"
      ],
      "metadata": {
        "id": "uCmWPd7m0vB9"
      }
    },
    {
      "cell_type": "markdown",
      "source": [
        "Functions are mainly used for abstraction.\n",
        "Abstraction comes in handy when you have a task that repeats a lot but with one different attributes.\n",
        "An example to explain this will follow shortly.\n",
        "\n",
        "Functions can be used to preform an action, or return a value.\n",
        "\n",
        "Writing functions to work in Python has two different stages: defining the function and then calling the function to put it into use."
      ],
      "metadata": {
        "id": "koI_ktEG1VEw"
      }
    },
    {
      "cell_type": "markdown",
      "source": [
        "We define a function by starting with the key-term “def”, short for “define\"\n",
        "\n",
        "Next, we have the name of our function—the command we want to use to call the function. Following that are parentheses. If our function is going to take in some form of input, that information is going to be specified inside the parentheses. Then, we have a colon, just like we’ve seen in conditionals and loops.\n",
        "\n",
        "Finally, we have the commands that the function should do. These are indented, again just like we saw with conditionals and loops, followed with a return statement in the very end."
      ],
      "metadata": {
        "id": "hbnrsyQMPSio"
      }
    },
    {
      "cell_type": "code",
      "source": [
        "def example_function(n):\n",
        "  #function details\n",
        "  return"
      ],
      "metadata": {
        "id": "1lrYBR1PPSTW"
      },
      "execution_count": null,
      "outputs": []
    },
    {
      "cell_type": "markdown",
      "source": [
        "To better understand the importance of abstraction, let’s say you want to print the line : “This is the result of my third semester: 8.67”\n",
        "But for every ith semester you want to replace the word “third” with the corresponding word which you will take from the user as input, along with the integer order of the semester i."
      ],
      "metadata": {
        "id": "JNGqsWFOQDSz"
      }
    },
    {
      "cell_type": "code",
      "source": [
        "def semester_GPA(sem, i):\n",
        "  print(\"This is the result of my\", sem, \"semester:\", GPA_per_semester[i])\n",
        "  return\n",
        "\n",
        "semester_GPA(\"third\", 2)"
      ],
      "metadata": {
        "colab": {
          "base_uri": "https://localhost:8080/"
        },
        "id": "Ep0sg0zyQXHv",
        "outputId": "4c9c2362-be3c-4907-808c-b5fd7f0d9226"
      },
      "execution_count": null,
      "outputs": [
        {
          "output_type": "stream",
          "name": "stdout",
          "text": [
            "This is the result of my third semester: 8.34\n"
          ]
        }
      ]
    },
    {
      "cell_type": "markdown",
      "source": [
        "Functions are also able to return values, instead of just making an action (printing something for example)\n",
        "\n",
        "This is a very powerful tool and is the most frequent usage of a function.\n",
        "\n",
        "Imagine we want to use the value returned from the function in other actions.\n",
        "In cases like these, it does not make sense to call the function with the same parameters over and over again, this will take more operation time from the computer.\n",
        "\n",
        "Instead we set a variable to equal the function with the given parameters, and then only use this variable whenever needed."
      ],
      "metadata": {
        "id": "gwQCPxAERGeZ"
      }
    },
    {
      "cell_type": "code",
      "source": [
        "def GPA_of_year_i(i):\n",
        "  return (GPA_per_semester[2*i] + GPA_per_semester[2*i + 1])/2\n",
        "\n",
        "\n",
        "\n",
        "first_year_GPA = GPA_of_year_i(0)\n",
        "\n",
        "print(\"This is my first year's GPA:\", first_year_GPA)\n",
        "print(\"If I had worked a bit harder and raised it by 0.8 my GPA would have been:\", first_year_GPA + 0.8)\n",
        "print(\"If I hadn't studied and instead lowered my GPA by 0.8 it would have been:\", first_year_GPA - 0.8)"
      ],
      "metadata": {
        "colab": {
          "base_uri": "https://localhost:8080/"
        },
        "id": "M782MCDPRY2F",
        "outputId": "76fda642-c003-4757-add4-a1fb5ffd5638"
      },
      "execution_count": null,
      "outputs": [
        {
          "output_type": "stream",
          "name": "stdout",
          "text": [
            "This is my first year's GPA: 8.91\n",
            "If I had worked a bit harder and raised it by 0.8 my GPA would have been: 9.71\n",
            "If I hadn't studied and instead lowered my GPA by 0.8 it would have been: 8.11\n"
          ]
        }
      ]
    },
    {
      "cell_type": "markdown",
      "source": [
        "**Functions are very powerful tools that can are more frequent in concrete applications. Understanding functions is arguably the basis of understanding Object-oriented programming.**"
      ],
      "metadata": {
        "id": "DOfTBp3-S4-z"
      }
    },
    {
      "cell_type": "markdown",
      "source": [
        "## Python Libraries\n"
      ],
      "metadata": {
        "id": "CMmvYLU4Vmr3"
      }
    },
    {
      "cell_type": "markdown",
      "source": [
        "### Built-in Libraries"
      ],
      "metadata": {
        "id": "m4XugCQPWHSM"
      }
    },
    {
      "cell_type": "markdown",
      "source": [
        "Python has a lot of important built-in libraries that come in handy quite often."
      ],
      "metadata": {
        "id": "r2OovGLYb39q"
      }
    },
    {
      "cell_type": "markdown",
      "source": [
        "Some libraries aid us in basic programming functionality. For\n",
        "example, a math library, such as the math module from the standard\n",
        "library, gives us access to many other mathematical functions. We get access to all of these functions by the command “import math\" and then can reference\n",
        "things like pi and the sine function."
      ],
      "metadata": {
        "id": "38vshe0yb5OG"
      }
    },
    {
      "cell_type": "code",
      "source": [
        "import math\n",
        "\n",
        "\n",
        "print(math.pi)\n",
        "print(math.sin(math.pi/6)) #sin(30)"
      ],
      "metadata": {
        "id": "reUt8vqQWVIN",
        "colab": {
          "base_uri": "https://localhost:8080/"
        },
        "outputId": "b491e710-e9b5-47a2-cab1-fc015b764015"
      },
      "execution_count": null,
      "outputs": [
        {
          "output_type": "stream",
          "name": "stdout",
          "text": [
            "3.141592653589793\n",
            "0.49999999999999994\n"
          ]
        }
      ]
    },
    {
      "cell_type": "markdown",
      "source": [
        "Some modules let us communicate over networks. There are libraries,\n",
        "such as ssl, that will let us set up network connections. Others, such as\n",
        "webbrowser, can open up a browser window. The following code will\n",
        "cause a browser window to open google.\n",
        "*note: this won't work in collab due to pop-ops prevention, but will work on your local computer in an IDE or interpreter"
      ],
      "metadata": {
        "id": "hNWM8cR7cUrq"
      }
    },
    {
      "cell_type": "code",
      "source": [
        "import webbrowser\n",
        "\n",
        "webbrowser.open(\"https://www.google.com\")"
      ],
      "metadata": {
        "id": "F5AFK2Rjc3tg"
      },
      "execution_count": null,
      "outputs": []
    },
    {
      "cell_type": "markdown",
      "source": [
        "Other modules, such as shutil, will let us do things on the computer itself,\n",
        "such as copy a file. The following code copies file1.txt to file2.txt."
      ],
      "metadata": {
        "id": "LDTojTIhdBpM"
      }
    },
    {
      "cell_type": "code",
      "source": [
        "import shutil"
      ],
      "metadata": {
        "id": "Mdk3ZkH_dPbT"
      },
      "execution_count": null,
      "outputs": []
    },
    {
      "cell_type": "markdown",
      "source": [
        "There also libraries that come in extremely handy for staistical concepts such as the statistics libraries that preforms calculations for the weighted and unweighted mean, harmonic mean, standard deviation and even measures for covarience, corelation and linear regression, and much more."
      ],
      "metadata": {
        "id": "5Zk0xEbneDSg"
      }
    },
    {
      "cell_type": "code",
      "source": [
        "import statistics\n",
        "\n",
        "print(statistics.median(4, 8, 2, 19, 2, 0, -2 , 5, 2, 17, 3, 9)"
      ],
      "metadata": {
        "id": "pzw0mYuQe3v8"
      },
      "execution_count": null,
      "outputs": []
    },
    {
      "cell_type": "markdown",
      "source": [
        "There are also numerous libraries that help in reducing computational complexities and easing accesibility, as well as providing an easy way to use frequent codes.\n",
        "\n",
        "The list goes on and on."
      ],
      "metadata": {
        "id": "vrn7gcm7fa4m"
      }
    },
    {
      "cell_type": "markdown",
      "source": [
        "### Third-party publicly distributed modules\n"
      ],
      "metadata": {
        "id": "NSczmG_bWVwk"
      }
    },
    {
      "cell_type": "markdown",
      "source": [
        "Python has a very large community of developers and fandoms. That creates a large variety of resources you may use in your projects without having to worry about implementation details."
      ],
      "metadata": {
        "id": "K79p_Moadu7o"
      }
    },
    {
      "cell_type": "markdown",
      "source": [
        "Let's take for example the SpeechRecognition library.\n",
        "\n",
        "This library can be installed via pip from the commmand line (or terminal) and then used directly to transcribe an audio file."
      ],
      "metadata": {
        "id": "P0BxNLB_k1OA"
      }
    },
    {
      "cell_type": "code",
      "source": [
        "!pip install SpeechRecognition pydub"
      ],
      "metadata": {
        "colab": {
          "base_uri": "https://localhost:8080/"
        },
        "id": "8u6diIltjc-S",
        "outputId": "e98c73a1-727f-43f9-c8be-3396ac8be4b1"
      },
      "execution_count": null,
      "outputs": [
        {
          "output_type": "stream",
          "name": "stdout",
          "text": [
            "Looking in indexes: https://pypi.org/simple, https://us-python.pkg.dev/colab-wheels/public/simple/\n",
            "Collecting SpeechRecognition\n",
            "  Downloading SpeechRecognition-3.10.0-py2.py3-none-any.whl (32.8 MB)\n",
            "\u001b[2K     \u001b[90m━━━━━━━━━━━━━━━━━━━━━━━━━━━━━━━━━━━━━━━━\u001b[0m \u001b[32m32.8/32.8 MB\u001b[0m \u001b[31m45.9 MB/s\u001b[0m eta \u001b[36m0:00:00\u001b[0m\n",
            "\u001b[?25hCollecting pydub\n",
            "  Downloading pydub-0.25.1-py2.py3-none-any.whl (32 kB)\n",
            "Collecting requests>=2.26.0\n",
            "  Downloading requests-2.28.2-py3-none-any.whl (62 kB)\n",
            "\u001b[2K     \u001b[90m━━━━━━━━━━━━━━━━━━━━━━━━━━━━━━━━━━━━━━━━\u001b[0m \u001b[32m62.8/62.8 KB\u001b[0m \u001b[31m7.1 MB/s\u001b[0m eta \u001b[36m0:00:00\u001b[0m\n",
            "\u001b[?25hRequirement already satisfied: idna<4,>=2.5 in /usr/local/lib/python3.9/dist-packages (from requests>=2.26.0->SpeechRecognition) (2.10)\n",
            "Collecting charset-normalizer<4,>=2\n",
            "  Downloading charset_normalizer-3.1.0-cp39-cp39-manylinux_2_17_x86_64.manylinux2014_x86_64.whl (199 kB)\n",
            "\u001b[2K     \u001b[90m━━━━━━━━━━━━━━━━━━━━━━━━━━━━━━━━━━━━━━\u001b[0m \u001b[32m199.2/199.2 KB\u001b[0m \u001b[31m21.9 MB/s\u001b[0m eta \u001b[36m0:00:00\u001b[0m\n",
            "\u001b[?25hRequirement already satisfied: certifi>=2017.4.17 in /usr/local/lib/python3.9/dist-packages (from requests>=2.26.0->SpeechRecognition) (2022.12.7)\n",
            "Requirement already satisfied: urllib3<1.27,>=1.21.1 in /usr/local/lib/python3.9/dist-packages (from requests>=2.26.0->SpeechRecognition) (1.26.14)\n",
            "Installing collected packages: pydub, charset-normalizer, requests, SpeechRecognition\n",
            "  Attempting uninstall: requests\n",
            "    Found existing installation: requests 2.25.1\n",
            "    Uninstalling requests-2.25.1:\n",
            "      Successfully uninstalled requests-2.25.1\n",
            "Successfully installed SpeechRecognition-3.10.0 charset-normalizer-3.1.0 pydub-0.25.1 requests-2.28.2\n"
          ]
        }
      ]
    },
    {
      "cell_type": "markdown",
      "source": [
        "Let's import a wav file from our local machine to use here"
      ],
      "metadata": {
        "id": "DC1auRXpoWVa"
      }
    },
    {
      "cell_type": "code",
      "source": [
        "from google.colab import files\n",
        "uploaded = files.upload()"
      ],
      "metadata": {
        "colab": {
          "base_uri": "https://localhost:8080/",
          "height": 75
        },
        "id": "zjByLrClod6h",
        "outputId": "11e8bde1-87e9-4d5d-b64e-dd91ca7dd72c"
      },
      "execution_count": null,
      "outputs": [
        {
          "output_type": "display_data",
          "data": {
            "text/plain": [
              "<IPython.core.display.HTML object>"
            ],
            "text/html": [
              "\n",
              "     <input type=\"file\" id=\"files-bf6cd2cf-c083-4800-b65e-d0b062130031\" name=\"files[]\" multiple disabled\n",
              "        style=\"border:none\" />\n",
              "     <output id=\"result-bf6cd2cf-c083-4800-b65e-d0b062130031\">\n",
              "      Upload widget is only available when the cell has been executed in the\n",
              "      current browser session. Please rerun this cell to enable.\n",
              "      </output>\n",
              "      <script>// Copyright 2017 Google LLC\n",
              "//\n",
              "// Licensed under the Apache License, Version 2.0 (the \"License\");\n",
              "// you may not use this file except in compliance with the License.\n",
              "// You may obtain a copy of the License at\n",
              "//\n",
              "//      http://www.apache.org/licenses/LICENSE-2.0\n",
              "//\n",
              "// Unless required by applicable law or agreed to in writing, software\n",
              "// distributed under the License is distributed on an \"AS IS\" BASIS,\n",
              "// WITHOUT WARRANTIES OR CONDITIONS OF ANY KIND, either express or implied.\n",
              "// See the License for the specific language governing permissions and\n",
              "// limitations under the License.\n",
              "\n",
              "/**\n",
              " * @fileoverview Helpers for google.colab Python module.\n",
              " */\n",
              "(function(scope) {\n",
              "function span(text, styleAttributes = {}) {\n",
              "  const element = document.createElement('span');\n",
              "  element.textContent = text;\n",
              "  for (const key of Object.keys(styleAttributes)) {\n",
              "    element.style[key] = styleAttributes[key];\n",
              "  }\n",
              "  return element;\n",
              "}\n",
              "\n",
              "// Max number of bytes which will be uploaded at a time.\n",
              "const MAX_PAYLOAD_SIZE = 100 * 1024;\n",
              "\n",
              "function _uploadFiles(inputId, outputId) {\n",
              "  const steps = uploadFilesStep(inputId, outputId);\n",
              "  const outputElement = document.getElementById(outputId);\n",
              "  // Cache steps on the outputElement to make it available for the next call\n",
              "  // to uploadFilesContinue from Python.\n",
              "  outputElement.steps = steps;\n",
              "\n",
              "  return _uploadFilesContinue(outputId);\n",
              "}\n",
              "\n",
              "// This is roughly an async generator (not supported in the browser yet),\n",
              "// where there are multiple asynchronous steps and the Python side is going\n",
              "// to poll for completion of each step.\n",
              "// This uses a Promise to block the python side on completion of each step,\n",
              "// then passes the result of the previous step as the input to the next step.\n",
              "function _uploadFilesContinue(outputId) {\n",
              "  const outputElement = document.getElementById(outputId);\n",
              "  const steps = outputElement.steps;\n",
              "\n",
              "  const next = steps.next(outputElement.lastPromiseValue);\n",
              "  return Promise.resolve(next.value.promise).then((value) => {\n",
              "    // Cache the last promise value to make it available to the next\n",
              "    // step of the generator.\n",
              "    outputElement.lastPromiseValue = value;\n",
              "    return next.value.response;\n",
              "  });\n",
              "}\n",
              "\n",
              "/**\n",
              " * Generator function which is called between each async step of the upload\n",
              " * process.\n",
              " * @param {string} inputId Element ID of the input file picker element.\n",
              " * @param {string} outputId Element ID of the output display.\n",
              " * @return {!Iterable<!Object>} Iterable of next steps.\n",
              " */\n",
              "function* uploadFilesStep(inputId, outputId) {\n",
              "  const inputElement = document.getElementById(inputId);\n",
              "  inputElement.disabled = false;\n",
              "\n",
              "  const outputElement = document.getElementById(outputId);\n",
              "  outputElement.innerHTML = '';\n",
              "\n",
              "  const pickedPromise = new Promise((resolve) => {\n",
              "    inputElement.addEventListener('change', (e) => {\n",
              "      resolve(e.target.files);\n",
              "    });\n",
              "  });\n",
              "\n",
              "  const cancel = document.createElement('button');\n",
              "  inputElement.parentElement.appendChild(cancel);\n",
              "  cancel.textContent = 'Cancel upload';\n",
              "  const cancelPromise = new Promise((resolve) => {\n",
              "    cancel.onclick = () => {\n",
              "      resolve(null);\n",
              "    };\n",
              "  });\n",
              "\n",
              "  // Wait for the user to pick the files.\n",
              "  const files = yield {\n",
              "    promise: Promise.race([pickedPromise, cancelPromise]),\n",
              "    response: {\n",
              "      action: 'starting',\n",
              "    }\n",
              "  };\n",
              "\n",
              "  cancel.remove();\n",
              "\n",
              "  // Disable the input element since further picks are not allowed.\n",
              "  inputElement.disabled = true;\n",
              "\n",
              "  if (!files) {\n",
              "    return {\n",
              "      response: {\n",
              "        action: 'complete',\n",
              "      }\n",
              "    };\n",
              "  }\n",
              "\n",
              "  for (const file of files) {\n",
              "    const li = document.createElement('li');\n",
              "    li.append(span(file.name, {fontWeight: 'bold'}));\n",
              "    li.append(span(\n",
              "        `(${file.type || 'n/a'}) - ${file.size} bytes, ` +\n",
              "        `last modified: ${\n",
              "            file.lastModifiedDate ? file.lastModifiedDate.toLocaleDateString() :\n",
              "                                    'n/a'} - `));\n",
              "    const percent = span('0% done');\n",
              "    li.appendChild(percent);\n",
              "\n",
              "    outputElement.appendChild(li);\n",
              "\n",
              "    const fileDataPromise = new Promise((resolve) => {\n",
              "      const reader = new FileReader();\n",
              "      reader.onload = (e) => {\n",
              "        resolve(e.target.result);\n",
              "      };\n",
              "      reader.readAsArrayBuffer(file);\n",
              "    });\n",
              "    // Wait for the data to be ready.\n",
              "    let fileData = yield {\n",
              "      promise: fileDataPromise,\n",
              "      response: {\n",
              "        action: 'continue',\n",
              "      }\n",
              "    };\n",
              "\n",
              "    // Use a chunked sending to avoid message size limits. See b/62115660.\n",
              "    let position = 0;\n",
              "    do {\n",
              "      const length = Math.min(fileData.byteLength - position, MAX_PAYLOAD_SIZE);\n",
              "      const chunk = new Uint8Array(fileData, position, length);\n",
              "      position += length;\n",
              "\n",
              "      const base64 = btoa(String.fromCharCode.apply(null, chunk));\n",
              "      yield {\n",
              "        response: {\n",
              "          action: 'append',\n",
              "          file: file.name,\n",
              "          data: base64,\n",
              "        },\n",
              "      };\n",
              "\n",
              "      let percentDone = fileData.byteLength === 0 ?\n",
              "          100 :\n",
              "          Math.round((position / fileData.byteLength) * 100);\n",
              "      percent.textContent = `${percentDone}% done`;\n",
              "\n",
              "    } while (position < fileData.byteLength);\n",
              "  }\n",
              "\n",
              "  // All done.\n",
              "  yield {\n",
              "    response: {\n",
              "      action: 'complete',\n",
              "    }\n",
              "  };\n",
              "}\n",
              "\n",
              "scope.google = scope.google || {};\n",
              "scope.google.colab = scope.google.colab || {};\n",
              "scope.google.colab._files = {\n",
              "  _uploadFiles,\n",
              "  _uploadFilesContinue,\n",
              "};\n",
              "})(self);\n",
              "</script> "
            ]
          },
          "metadata": {}
        },
        {
          "output_type": "stream",
          "name": "stdout",
          "text": [
            "Saving sample_audio.wav to sample_audio.wav\n"
          ]
        }
      ]
    },
    {
      "cell_type": "markdown",
      "source": [
        "After you install it, all that's left is simply reading the file and using the functions contained in the library"
      ],
      "metadata": {
        "id": "OVdwjIvLlPUN"
      }
    },
    {
      "cell_type": "code",
      "source": [
        "import speech_recognition as sr\n",
        "\n",
        "filename = \"sample_audio.wav\"\n",
        "\n",
        "# initialize the recognizer\n",
        "r = sr.Recognizer()\n",
        "\n",
        "# open the file\n",
        "with sr.AudioFile(filename) as source:\n",
        "    # listen for the data (load audio to memory)\n",
        "    audio_data = r.record(source)\n",
        "    # recognize (convert from speech to text)\n",
        "    text = r.recognize_google(audio_data)\n",
        "    print(text)\n",
        ""
      ],
      "metadata": {
        "colab": {
          "base_uri": "https://localhost:8080/"
        },
        "id": "iIyRMCuGj9UO",
        "outputId": "a02b8538-e0f5-4cfa-ee87-8daff5e516d0"
      },
      "execution_count": null,
      "outputs": [
        {
          "output_type": "stream",
          "name": "stdout",
          "text": [
            "welcome to easy 2023\n"
          ]
        }
      ]
    },
    {
      "cell_type": "markdown",
      "source": [
        "The code above is used for transcribing short audio files, but you may also read larger file using he code below."
      ],
      "metadata": {
        "id": "pMvdnsW8mZYe"
      }
    },
    {
      "cell_type": "code",
      "source": [
        "# importing libraries\n",
        "import speech_recognition as sr\n",
        "import os\n",
        "from pydub import AudioSegment\n",
        "from pydub.silence import split_on_silence\n",
        "\n",
        "# create a speech recognition object\n",
        "r = sr.Recognizer()\n",
        "\n",
        "# a function that splits the audio file into chunks\n",
        "# and applies speech recognition\n",
        "def get_large_audio_transcription(path):\n",
        "    \"\"\"\n",
        "    Splitting the large audio file into chunks\n",
        "    and apply speech recognition on each of these chunks\n",
        "    \"\"\"\n",
        "    # open the audio file using pydub\n",
        "    sound = AudioSegment.from_wav(path)\n",
        "    # split audio sound where silence is 700 miliseconds or more and get chunks\n",
        "    chunks = split_on_silence(sound,\n",
        "        # experiment with this value for your target audio file\n",
        "        min_silence_len = 500,\n",
        "        # adjust this per requirement\n",
        "        silence_thresh = sound.dBFS-14,\n",
        "        # keep the silence for 1 second, adjustable as well\n",
        "        keep_silence=500,\n",
        "    )\n",
        "    folder_name = \"audio-chunks\"\n",
        "    # create a directory to store the audio chunks\n",
        "    if not os.path.isdir(folder_name):\n",
        "        os.mkdir(folder_name)\n",
        "    whole_text = \"\"\n",
        "    # process each chunk\n",
        "    for i, audio_chunk in enumerate(chunks, start=1):\n",
        "        # export audio chunk and save it in\n",
        "        # the `folder_name` directory.\n",
        "        chunk_filename = os.path.join(folder_name, f\"chunk{i}.wav\")\n",
        "        audio_chunk.export(chunk_filename, format=\"wav\")\n",
        "        # recognize the chunk\n",
        "        with sr.AudioFile(chunk_filename) as source:\n",
        "            audio_listened = r.record(source)\n",
        "            # try converting it to text\n",
        "            try:\n",
        "                text = r.recognize_google(audio_listened)\n",
        "            except sr.UnknownValueError as e:\n",
        "                print(\"Error:\", str(e))\n",
        "            else:\n",
        "                text = f\"{text.capitalize()}. \"\n",
        "                print(chunk_filename, \":\", text)\n",
        "                whole_text += text\n",
        "    # return the text for all chunks detected\n",
        "    return whole_text"
      ],
      "metadata": {
        "id": "VSkyYYThmllB"
      },
      "execution_count": null,
      "outputs": []
    },
    {
      "cell_type": "markdown",
      "source": [
        "Do not let the length or complexities of these codes intimidate you. Programming begins with the thinking process. You can always find codes online and multiple advices and resources when dealing with specific libraries from either their original github reposotories, stackoverflow, and a plethora of other communities."
      ],
      "metadata": {
        "id": "0Ai-xRiWmsWe"
      }
    },
    {
      "cell_type": "markdown",
      "source": [
        "There is a plethora of many other useful module, libraries, and frameworks you can use with pyhton.\n",
        "\n",
        "Some will be very helpfyl from your specific task to develop the backend logic process.\n",
        "Others will be vital for your developm cycle, all the way from backend Dev to Game Dev.\n",
        "\n",
        "Others are considered integral to Data analysis and Machine Learning.\n",
        "\n",
        "Either ways, You name it, python covers it.\n",
        "\n"
      ],
      "metadata": {
        "id": "pq558j_5uY5u"
      }
    }
  ]
}